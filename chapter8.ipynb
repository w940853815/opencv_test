{
 "cells": [
  {
   "cell_type": "markdown",
   "metadata": {},
   "source": [
    "# 第8章　物体跟踪"
   ]
  },
  {
   "cell_type": "markdown",
   "metadata": {},
   "source": [
    "## 实现基本背景差分器"
   ]
  },
  {
   "cell_type": "code",
   "execution_count": null,
   "metadata": {},
   "outputs": [],
   "source": [
    "import cv2\n",
    "OPENCV_MAJOR_VERSION = int(cv2.__version__.split('.')[0])\n",
    "\n",
    "BLUR_RADIUS = 21\n",
    "# 腐蚀\n",
    "erode_kernel = cv2.getStructuringElement(cv2.MORPH_ELLIPSE, (5, 5))\n",
    "# 膨胀\n",
    "dilate_kernel = cv2.getStructuringElement(cv2.MORPH_ELLIPSE, (9, 9))\n",
    "\n",
    "cap = cv2.VideoCapture(1)\n",
    "for i in range(10):\n",
    "    success, frame = cap.read()\n",
    "if not success:\n",
    "    exit(1)\n",
    "\n",
    "gray_background = cv2.cvtColor(frame, cv2.COLOR_BGR2GRAY)\n",
    "gray_background = cv2.GaussianBlur(gray_background, (BLUR_RADIUS, BLUR_RADIUS), 0)\n",
    "success, frame = cap.read()\n",
    "while success:\n",
    "    gray_frame = cv2.cvtColor(frame, cv2.COLOR_BGR2GRAY)\n",
    "    gray_frame = cv2.GaussianBlur(gray_frame, (BLUR_RADIUS, BLUR_RADIUS), 0)\n",
    "    diff = cv2.absdiff(gray_background, gray_frame)\n",
    "    _, thresh = cv2.threshold(diff, 40, 255, cv2.THRESH_BINARY)\n",
    "    cv2.erode(thresh, erode_kernel, thresh, iterations=2)\n",
    "    cv2.dilate(thresh, dilate_kernel, thresh, iterations=2)\n",
    "    if OPENCV_MAJOR_VERSION >= 4:\n",
    "        # OpenCV 4 or a later version is being used.\n",
    "        contours, hier = cv2.findContours(thresh, cv2.RETR_EXTERNAL,\n",
    "                                          cv2.CHAIN_APPROX_SIMPLE)\n",
    "    else:\n",
    "        # OpenCV 3 or an earlier version is being used.\n",
    "        # cv2.findContours has an extra return value.\n",
    "        # The extra return value is the thresholded image, which is\n",
    "        # unchanged, so we can ignore it.\n",
    "        _, contours, hier = cv2.findContours(thresh, cv2.RETR_EXTERNAL,\n",
    "                                             cv2.CHAIN_APPROX_SIMPLE)\n",
    "    for c in contours:\n",
    "        if cv2.contourArea(c) > 4000:\n",
    "            x, y, w, h = cv2.boundingRect(c)\n",
    "            cv2.rectangle(frame, (x, y), (x+w, y+h), (255, 255, 0), 2)\n",
    "    cv2.imshow('diff', diff)\n",
    "    cv2.imshow('thresh', thresh)\n",
    "    cv2.imshow('detect', frame)\n",
    "    k = cv2.waitKey(1)\n",
    "    if k == 27:\n",
    "        break\n",
    "    success, frame = cap.read()"
   ]
  },
  {
   "cell_type": "markdown",
   "metadata": {},
   "source": [
    "## 使用MOG背景差分器"
   ]
  },
  {
   "cell_type": "code",
   "execution_count": null,
   "metadata": {},
   "outputs": [],
   "source": [
    "import cv2\n",
    "import time\n",
    "bg_subtractor = cv2.createBackgroundSubtractorMOG2(detectShadows=True)\n",
    "erode_kernel = cv2.getStructuringElement(cv2.MORPH_ELLIPSE, (3, 3))\n",
    "dilate_kernel = cv2.getStructuringElement(cv2.MORPH_ELLIPSE, (7, 7))\n",
    "cap  = cv2.VideoCapture(\"data/hallway.mpg\")\n",
    "success, frame = cap.read()\n",
    "while success:\n",
    "    time.sleep(1)\n",
    "    fg_mask = bg_subtractor.apply(frame)\n",
    "    _, thresh = cv2.threshold(fg_mask, 244, 255, cv2.THRESH_BINARY)\n",
    "    cv2.erode(thresh, erode_kernel, thresh, iterations=2)\n",
    "    cv2.dilate(thresh, dilate_kernel, thresh, iterations=2)\n",
    "    contours, hier = cv2.findContours(thresh, cv2.RETR_EXTERNAL, cv2.CHAIN_APPROX_SIMPLE)\n",
    "    for c in contours:\n",
    "        if cv2.contourArea(c) > 1000:\n",
    "            x, y, w, h = cv2.boundingRect(c)\n",
    "            cv2.rectangle(frame, (x, y), (x+w, y+h), (255, 255, 0), 2)\n",
    "    cv2.imshow('mog', fg_mask)\n",
    "    cv2.imshow('thresh', thresh)\n",
    "    cv2.imshow('detection', frame)\n",
    "    k = cv2.waitKey(1)\n",
    "    if k == 27:\n",
    "        break\n",
    "    success, frame = cap.read()"
   ]
  },
  {
   "cell_type": "markdown",
   "metadata": {},
   "source": [
    "## 使用KNN背景差分器"
   ]
  },
  {
   "cell_type": "code",
   "execution_count": null,
   "metadata": {},
   "outputs": [],
   "source": [
    "import cv2\n",
    "import time\n",
    "bg_subtractor = cv2.createBackgroundSubtractorKNN(detectShadows=True)\n",
    "erode_kernel = cv2.getStructuringElement(cv2.MORPH_ELLIPSE, (7, 5))\n",
    "dilate_kernel = cv2.getStructuringElement(cv2.MORPH_ELLIPSE, (17, 11))\n",
    "cap  = cv2.VideoCapture(\"data/traffic.flv\")\n",
    "success, frame = cap.read()\n",
    "while success:\n",
    "    time.sleep(1)\n",
    "    fg_mask = bg_subtractor.apply(frame)\n",
    "    _, thresh = cv2.threshold(fg_mask, 244, 255, cv2.THRESH_BINARY)\n",
    "    cv2.erode(thresh, erode_kernel, thresh, iterations=2)\n",
    "    cv2.dilate(thresh, dilate_kernel, thresh, iterations=2)\n",
    "    contours, hier = cv2.findContours(thresh, cv2.RETR_EXTERNAL, cv2.CHAIN_APPROX_SIMPLE)\n",
    "    for c in contours:\n",
    "        if cv2.contourArea(c) > 1000:\n",
    "            x, y, w, h = cv2.boundingRect(c)\n",
    "            cv2.rectangle(frame, (x, y), (x+w, y+h), (255, 255, 0), 2)\n",
    "    cv2.imshow('knn', fg_mask)\n",
    "    cv2.imshow('thresh', thresh)\n",
    "    cv2.imshow('detection', frame)\n",
    "    k = cv2.waitKey(1)\n",
    "    if k == 27:\n",
    "        break\n",
    "    success, frame = cap.read()"
   ]
  }
 ],
 "metadata": {
  "kernelspec": {
   "display_name": "Python 3.9.13 64-bit",
   "language": "python",
   "name": "python3"
  },
  "language_info": {
   "codemirror_mode": {
    "name": "ipython",
    "version": 3
   },
   "file_extension": ".py",
   "mimetype": "text/x-python",
   "name": "python",
   "nbconvert_exporter": "python",
   "pygments_lexer": "ipython3",
   "version": "3.9.13"
  },
  "orig_nbformat": 4,
  "vscode": {
   "interpreter": {
    "hash": "aee8b7b246df8f9039afb4144a1f6fd8d2ca17a180786b69acc140d282b71a49"
   }
  }
 },
 "nbformat": 4,
 "nbformat_minor": 2
}
